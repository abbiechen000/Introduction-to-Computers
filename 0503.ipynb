{
  "nbformat": 4,
  "nbformat_minor": 0,
  "metadata": {
    "colab": {
      "provenance": [],
      "authorship_tag": "ABX9TyNkrltX+qg0MbFN7nhtEY+4",
      "include_colab_link": true
    },
    "kernelspec": {
      "name": "python3",
      "display_name": "Python 3"
    },
    "language_info": {
      "name": "python"
    }
  },
  "cells": [
    {
      "cell_type": "markdown",
      "metadata": {
        "id": "view-in-github",
        "colab_type": "text"
      },
      "source": [
        "<a href=\"https://colab.research.google.com/github/abbiechen000/Introduction-to-Computers/blob/main/0503.ipynb\" target=\"_parent\"><img src=\"https://colab.research.google.com/assets/colab-badge.svg\" alt=\"Open In Colab\"/></a>"
      ]
    },
    {
      "cell_type": "code",
      "execution_count": 2,
      "metadata": {
        "colab": {
          "base_uri": "https://localhost:8080/"
        },
        "id": "U2cuUhq6pht1",
        "outputId": "e3e1ae07-ad24-403b-efdf-aa2288fe3290"
      },
      "outputs": [
        {
          "output_type": "stream",
          "name": "stdout",
          "text": [
            "peiyu\n"
          ]
        }
      ],
      "source": [
        "#第一題print名字\n",
        "print('peiyu')"
      ]
    },
    {
      "cell_type": "code",
      "source": [
        "#第二題BMI計算\n",
        "身高 = int(input(\"請輸入身高(cm)\"))\n",
        "體重 = int(input('請輸入體重(kg)'))\n",
        "BMI = 體重 / (身高/100)**2"
      ],
      "metadata": {
        "colab": {
          "base_uri": "https://localhost:8080/"
        },
        "id": "Hp6E22KZu8p5",
        "outputId": "9c6411ac-0ad7-4929-ac6e-154c135eb343"
      },
      "execution_count": 3,
      "outputs": [
        {
          "name": "stdout",
          "output_type": "stream",
          "text": [
            "請輸入身高(cm)176\n",
            "請輸入體重(kg)75\n"
          ]
        }
      ]
    },
    {
      "cell_type": "code",
      "source": [
        "BMI"
      ],
      "metadata": {
        "colab": {
          "base_uri": "https://localhost:8080/"
        },
        "id": "eldk9LtpxQM-",
        "outputId": "201d7520-f572-4653-cc0e-1990358b042c"
      },
      "execution_count": 4,
      "outputs": [
        {
          "output_type": "execute_result",
          "data": {
            "text/plain": [
              "24.212293388429753"
            ]
          },
          "metadata": {},
          "execution_count": 4
        }
      ]
    },
    {
      "cell_type": "code",
      "source": [
        "#第三題整數和\n",
        "total = 0\n",
        "for i in range(1,101):\n",
        "  total += i\n",
        "print(total)"
      ],
      "metadata": {
        "colab": {
          "base_uri": "https://localhost:8080/"
        },
        "id": "3MnPGhyNxcLG",
        "outputId": "eb98ba1d-4005-4bf6-95d6-b31fa2d60100"
      },
      "execution_count": 5,
      "outputs": [
        {
          "output_type": "stream",
          "name": "stdout",
          "text": [
            "5050\n"
          ]
        }
      ]
    },
    {
      "cell_type": "code",
      "source": [],
      "metadata": {
        "id": "Tb5CKBxDx5S4"
      },
      "execution_count": null,
      "outputs": []
    }
  ]
}