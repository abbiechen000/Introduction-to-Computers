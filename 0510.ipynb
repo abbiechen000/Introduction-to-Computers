{
  "nbformat": 4,
  "nbformat_minor": 0,
  "metadata": {
    "colab": {
      "provenance": [],
      "authorship_tag": "ABX9TyP2sbdoFtl6kA8/HA/cPk08",
      "include_colab_link": true
    },
    "kernelspec": {
      "name": "python3",
      "display_name": "Python 3"
    },
    "language_info": {
      "name": "python"
    }
  },
  "cells": [
    {
      "cell_type": "markdown",
      "metadata": {
        "id": "view-in-github",
        "colab_type": "text"
      },
      "source": [
        "<a href=\"https://colab.research.google.com/github/abbiechen000/Introduction-to-Computers/blob/main/0510.ipynb\" target=\"_parent\"><img src=\"https://colab.research.google.com/assets/colab-badge.svg\" alt=\"Open In Colab\"/></a>"
      ]
    },
    {
      "cell_type": "code",
      "source": [
        "score = int(input(\"請輸入分數：\"))\n",
        "if score >= 60:\n",
        "  print(\"及格\")\n",
        "else:\n",
        "  print(\"不及格\")"
      ],
      "metadata": {
        "id": "Tb5CKBxDx5S4",
        "colab": {
          "base_uri": "https://localhost:8080/"
        },
        "outputId": "06be0eeb-b171-40b2-f6c0-26d8441b87ab"
      },
      "execution_count": 1,
      "outputs": [
        {
          "output_type": "stream",
          "name": "stdout",
          "text": [
            "請輸入分數：60\n",
            "及格\n"
          ]
        }
      ]
    },
    {
      "cell_type": "code",
      "source": [
        "密碼 = int(input(\"請輸入密碼：\"))\n",
        "if 密碼 == 9876:\n",
        "  print(\"歡迎光臨！\")"
      ],
      "metadata": {
        "colab": {
          "base_uri": "https://localhost:8080/"
        },
        "id": "IgVaG2uTw8Uw",
        "outputId": "96777045-de53-4176-fa83-c2654d609366"
      },
      "execution_count": 4,
      "outputs": [
        {
          "output_type": "stream",
          "name": "stdout",
          "text": [
            "請輸入密碼：9876\n",
            "歡迎光臨！\n"
          ]
        }
      ]
    },
    {
      "cell_type": "code",
      "source": [
        "password = int(input(\"請輸入密碼：\"))\n",
        "if password == 2345:\n",
        "  print(\"password correct\")\n",
        "else:\n",
        "  print(\"password wrong\")\n"
      ],
      "metadata": {
        "colab": {
          "base_uri": "https://localhost:8080/"
        },
        "id": "-2_2a12cy31h",
        "outputId": "684999f6-66c2-4414-b860-60cfd4ec9796"
      },
      "execution_count": 5,
      "outputs": [
        {
          "output_type": "stream",
          "name": "stdout",
          "text": [
            "請輸入密碼：2345\n",
            "password correct\n"
          ]
        }
      ]
    },
    {
      "cell_type": "code",
      "source": [
        "rain = (input(\"今天會下雨嗎？：\"))\n",
        "if(rain ==\"Y\" or rain ==\"y\"):\n",
        "  print(\"出門記得帶傘！\")\n",
        "else:\n",
        "  print(\"不用帶傘\")"
      ],
      "metadata": {
        "colab": {
          "base_uri": "https://localhost:8080/"
        },
        "id": "eVlufnVDz8y2",
        "outputId": "00b37181-37a0-484f-801a-afc4c4d41124"
      },
      "execution_count": 13,
      "outputs": [
        {
          "output_type": "stream",
          "name": "stdout",
          "text": [
            "今天會下雨嗎？：Y\n",
            "出門記得帶傘！\n"
          ]
        }
      ]
    },
    {
      "cell_type": "code",
      "source": [
        "number =int(input(\"請輸入正整數：\"))\n",
        "if (number % 2 == 0):\n",
        "  print(number,\"為偶數\")\n",
        "else:\n",
        "  print(number,\"為奇數\")"
      ],
      "metadata": {
        "colab": {
          "base_uri": "https://localhost:8080/"
        },
        "id": "qNMF32BL100m",
        "outputId": "b7bb10d4-bb36-43b8-cb1c-f885052dade7"
      },
      "execution_count": 12,
      "outputs": [
        {
          "output_type": "stream",
          "name": "stdout",
          "text": [
            "請輸入正整數：50\n",
            "50 為偶數\n"
          ]
        }
      ]
    },
    {
      "cell_type": "code",
      "source": [],
      "metadata": {
        "id": "xggiXnyf3Cm5"
      },
      "execution_count": null,
      "outputs": []
    }
  ]
}