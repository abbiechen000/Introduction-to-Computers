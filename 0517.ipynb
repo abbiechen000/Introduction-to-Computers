{
  "nbformat": 4,
  "nbformat_minor": 0,
  "metadata": {
    "colab": {
      "provenance": [],
      "authorship_tag": "ABX9TyPjzmpxshf7h4AH5VydAPcE",
      "include_colab_link": true
    },
    "kernelspec": {
      "name": "python3",
      "display_name": "Python 3"
    },
    "language_info": {
      "name": "python"
    }
  },
  "cells": [
    {
      "cell_type": "markdown",
      "metadata": {
        "id": "view-in-github",
        "colab_type": "text"
      },
      "source": [
        "<a href=\"https://colab.research.google.com/github/abbiechen000/Introduction-to-Computers/blob/main/0517.ipynb\" target=\"_parent\"><img src=\"https://colab.research.google.com/assets/colab-badge.svg\" alt=\"Open In Colab\"/></a>"
      ]
    },
    {
      "cell_type": "code",
      "execution_count": null,
      "metadata": {
        "colab": {
          "base_uri": "https://localhost:8080/"
        },
        "id": "4gi_ME0xzHHH",
        "outputId": "34dde959-b27a-42fd-e3bd-0c32d317874c"
      },
      "outputs": [
        {
          "output_type": "stream",
          "name": "stdout",
          "text": [
            "0517\n"
          ]
        }
      ],
      "source": [
        "print('0517')"
      ]
    },
    {
      "cell_type": "code",
      "source": [
        "score = int(input(\"score: \"))\n",
        "if score >= 90:\n",
        " print('Grade is: A')\n",
        "elif score >= 80:\n",
        " print('Grade is: B')\n",
        "elif score >= 70:\n",
        " print('Grade is: C') \n",
        "elif score >= 60:\n",
        " print('Grade is: D')\n",
        "else:\n",
        " print('Grade is: F')"
      ],
      "metadata": {
        "colab": {
          "base_uri": "https://localhost:8080/"
        },
        "id": "m1jai5Fl1G4f",
        "outputId": "47e085a0-9ef2-4c29-f708-1a63a4348f31"
      },
      "execution_count": null,
      "outputs": [
        {
          "output_type": "stream",
          "name": "stdout",
          "text": [
            "score: 88\n",
            "Grade is: B\n"
          ]
        }
      ]
    },
    {
      "cell_type": "code",
      "source": [
        "rain = (input(\"今天會下雨嗎？：\"))\n",
        "if(rain ==\"Y\" or rain ==\"y\"):\n",
        "  print(\"出門記得帶傘！\")\n",
        "elif (rain ==\"N\" or rain ==\"n\"):\n",
        "  print(\"不用帶傘\")\n",
        "else:\n",
        "  print('請重新輸入')"
      ],
      "metadata": {
        "id": "VbngUBZ00Ifq",
        "colab": {
          "base_uri": "https://localhost:8080/"
        },
        "outputId": "38600930-7670-4691-9bb3-9463cb5d0daa"
      },
      "execution_count": null,
      "outputs": [
        {
          "output_type": "stream",
          "name": "stdout",
          "text": [
            "今天會下雨嗎？：Y\n",
            "出門記得帶傘！\n"
          ]
        }
      ]
    },
    {
      "cell_type": "code",
      "source": [
        "體溫 = int(input(\"體溫:\"))\n",
        "if 體溫 >= 37.5:\n",
        " print('體溫過高!')\n",
        "elif 體溫 >= 37.4 and 體溫 <= 37:\n",
        " print('體溫略高!')\n",
        "elif 體溫 >= 34 and 體溫 <= 36.9:\n",
        " print('體溫正常!') \n",
        "elif 體溫 <= 34:\n",
        " print('體溫異常，請重新量測!') \n",
        "else:\n",
        " print('體溫異常，請重新量測!')"
      ],
      "metadata": {
        "colab": {
          "base_uri": "https://localhost:8080/"
        },
        "id": "36FN2UgY2H3u",
        "outputId": "e214d589-35bc-4156-a432-9a30c1d6ef09"
      },
      "execution_count": null,
      "outputs": [
        {
          "output_type": "stream",
          "name": "stdout",
          "text": [
            "體溫:00\n",
            "體溫異常，請重新量測!\n"
          ]
        }
      ]
    },
    {
      "cell_type": "code",
      "source": [
        "score = int(input('score:'))\n",
        "if score >= 90:\n",
        "  print('A')\n",
        "elif score >= 80 and score <= 89:\n",
        "  print('B')\n",
        "elif score >= 70 and score <= 79:\n",
        "  print('C')\n",
        "elif score >= 60 and score <= 69:\n",
        "  print('D')\n",
        "else:\n",
        "  print('E')"
      ],
      "metadata": {
        "colab": {
          "base_uri": "https://localhost:8080/"
        },
        "id": "k833zyKc4GLL",
        "outputId": "659d5bee-59c2-41aa-c98c-f071139b09f0"
      },
      "execution_count": null,
      "outputs": [
        {
          "output_type": "stream",
          "name": "stdout",
          "text": [
            "score:100\n",
            "A\n"
          ]
        }
      ]
    },
    {
      "cell_type": "code",
      "source": [
        "season = int(input('month:'))\n",
        "if season == 3 or 4 or 5:\n",
        "  print(season,'月是春天!')\n",
        "elif season == 6 or 7 or 8:\n",
        "  print(season,'月是夏天!')\n",
        "elif season == 9 or 10 or 11:\n",
        "  print(season,'月是秋天!')\n",
        "elif season == 12 or 1 or 2:\n",
        "  print(season,'月是冬天!')\n",
        "else:\n",
        "  print('月份不再範圍內!')"
      ],
      "metadata": {
        "colab": {
          "base_uri": "https://localhost:8080/"
        },
        "id": "25pQhyhZ5cH9",
        "outputId": "32c04fb0-4462-46c3-dd9b-e98d2ec0670a"
      },
      "execution_count": null,
      "outputs": [
        {
          "output_type": "stream",
          "name": "stdout",
          "text": [
            "month:12\n",
            "12 月是春天!\n"
          ]
        }
      ]
    },
    {
      "cell_type": "code",
      "source": [
        "income = int(input('請輸入今年收入淨額:'))\n",
        "if income >= 2000000:\n",
        "  print('付稅金額:',income*0.3,'元')\n",
        "elif income >= 1000000 and income <= 1999999:\n",
        "  print('付稅金額:',income*0.21,'元')\n",
        "elif income >= 600000 and income <= 999999:\n",
        "  print('付稅金額:',income*0.13,'元')\n",
        "elif income >= 300000 and income <= 599999:\n",
        "  print('付稅金額:',income*0.06,'元')\n",
        "else:\n",
        "  print('付稅金額:0元')"
      ],
      "metadata": {
        "colab": {
          "base_uri": "https://localhost:8080/"
        },
        "id": "Ipt2wEAm9cPx",
        "outputId": "61abf2d9-db67-4adc-ea8b-bf633a2e8a54"
      },
      "execution_count": null,
      "outputs": [
        {
          "output_type": "stream",
          "name": "stdout",
          "text": [
            "請輸入今年收入淨額:860485\n",
            "付稅金額: 111863.05 元\n"
          ]
        }
      ]
    },
    {
      "cell_type": "code",
      "source": [],
      "metadata": {
        "id": "JkwSxQDM_Jle"
      },
      "execution_count": null,
      "outputs": []
    }
  ]
}